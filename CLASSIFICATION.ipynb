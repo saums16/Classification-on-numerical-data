{
  "nbformat": 4,
  "nbformat_minor": 0,
  "metadata": {
    "colab": {
      "name": "ML_CA2_CLASSIFICATION.ipynb",
      "provenance": [],
      "collapsed_sections": [],
      "toc_visible": true
    },
    "kernelspec": {
      "name": "python3",
      "display_name": "Python 3"
    }
  },
  "cells": [
    {
      "cell_type": "markdown",
      "metadata": {
        "id": "HJERXV9z9P-M",
        "colab_type": "text"
      },
      "source": [
        "**IMPORT OF LIBRARIES**"
      ]
    },
    {
      "cell_type": "code",
      "metadata": {
        "id": "ESMiGjRu9Rrn",
        "colab_type": "code",
        "colab": {}
      },
      "source": [
        "from sklearn.tree import DecisionTreeClassifier\n",
        "from sklearn.metrics import accuracy_score\n",
        "import pandas as pd\n",
        "from sklearn.model_selection import train_test_split\n",
        "import matplotlib.pyplot as plt\n",
        "from pandas.plotting import scatter_matrix\n",
        "from sklearn import metrics\n",
        "from sklearn.neighbors import KNeighborsClassifier\n",
        "from sklearn.naive_bayes import GaussianNB"
      ],
      "execution_count": null,
      "outputs": []
    },
    {
      "cell_type": "markdown",
      "metadata": {
        "id": "zGbWC4ku9lus",
        "colab_type": "text"
      },
      "source": [
        "**LOADING THE DATA**"
      ]
    },
    {
      "cell_type": "code",
      "metadata": {
        "id": "A16mY7rifLwI",
        "colab_type": "code",
        "colab": {
          "base_uri": "https://localhost:8080/",
          "height": 206
        },
        "outputId": "77ff8987-b833-4836-f8c3-61e4afbfd083"
      },
      "source": [
        "mydata = pandas.read_csv('ncaa_tournament.csv')\n",
        "mydata.head()"
      ],
      "execution_count": null,
      "outputs": [
        {
          "output_type": "execute_result",
          "data": {
            "text/html": [
              "<div>\n",
              "<style scoped>\n",
              "    .dataframe tbody tr th:only-of-type {\n",
              "        vertical-align: middle;\n",
              "    }\n",
              "\n",
              "    .dataframe tbody tr th {\n",
              "        vertical-align: top;\n",
              "    }\n",
              "\n",
              "    .dataframe thead th {\n",
              "        text-align: right;\n",
              "    }\n",
              "</style>\n",
              "<table border=\"1\" class=\"dataframe\">\n",
              "  <thead>\n",
              "    <tr style=\"text-align: right;\">\n",
              "      <th></th>\n",
              "      <th>year</th>\n",
              "      <th>round</th>\n",
              "      <th>favorite</th>\n",
              "      <th>underdog</th>\n",
              "      <th>favorite_probability</th>\n",
              "      <th>favorite_win_flag</th>\n",
              "    </tr>\n",
              "  </thead>\n",
              "  <tbody>\n",
              "    <tr>\n",
              "      <th>0</th>\n",
              "      <td>2014</td>\n",
              "      <td>2</td>\n",
              "      <td>Texas</td>\n",
              "      <td>Arizona State</td>\n",
              "      <td>0.50</td>\n",
              "      <td>1</td>\n",
              "    </tr>\n",
              "    <tr>\n",
              "      <th>1</th>\n",
              "      <td>2013</td>\n",
              "      <td>2</td>\n",
              "      <td>Illinois</td>\n",
              "      <td>Colorado</td>\n",
              "      <td>0.50</td>\n",
              "      <td>1</td>\n",
              "    </tr>\n",
              "    <tr>\n",
              "      <th>2</th>\n",
              "      <td>2013</td>\n",
              "      <td>1</td>\n",
              "      <td>James Madison</td>\n",
              "      <td>Long Island</td>\n",
              "      <td>0.51</td>\n",
              "      <td>1</td>\n",
              "    </tr>\n",
              "    <tr>\n",
              "      <th>3</th>\n",
              "      <td>2011</td>\n",
              "      <td>2</td>\n",
              "      <td>Cincinnati</td>\n",
              "      <td>Missouri</td>\n",
              "      <td>0.51</td>\n",
              "      <td>1</td>\n",
              "    </tr>\n",
              "    <tr>\n",
              "      <th>4</th>\n",
              "      <td>2012</td>\n",
              "      <td>3</td>\n",
              "      <td>Cincinnati</td>\n",
              "      <td>Florida State</td>\n",
              "      <td>0.51</td>\n",
              "      <td>1</td>\n",
              "    </tr>\n",
              "  </tbody>\n",
              "</table>\n",
              "</div>"
            ],
            "text/plain": [
              "   year  round  ... favorite_probability favorite_win_flag\n",
              "0  2014      2  ...                 0.50                 1\n",
              "1  2013      2  ...                 0.50                 1\n",
              "2  2013      1  ...                 0.51                 1\n",
              "3  2011      2  ...                 0.51                 1\n",
              "4  2012      3  ...                 0.51                 1\n",
              "\n",
              "[5 rows x 6 columns]"
            ]
          },
          "metadata": {
            "tags": []
          },
          "execution_count": 313
        }
      ]
    },
    {
      "cell_type": "markdown",
      "metadata": {
        "id": "VIakf0y7Ad0-",
        "colab_type": "text"
      },
      "source": [
        "**DATA Viewing**"
      ]
    },
    {
      "cell_type": "code",
      "metadata": {
        "id": "CZ3b9gnUugyO",
        "colab_type": "code",
        "colab": {
          "base_uri": "https://localhost:8080/",
          "height": 344
        },
        "outputId": "d617418e-00f2-4298-d104-f68b63a57432"
      },
      "source": [
        "frame=10\n",
        "view=mydata.head(Glance)\n",
        "print(view)\n"
      ],
      "execution_count": null,
      "outputs": [
        {
          "output_type": "stream",
          "text": [
            "    year  round  ... favorite_probability favorite_win_flag\n",
            "0   2014      2  ...                 0.50                 1\n",
            "1   2013      2  ...                 0.50                 1\n",
            "2   2013      1  ...                 0.51                 1\n",
            "3   2011      2  ...                 0.51                 1\n",
            "4   2012      3  ...                 0.51                 1\n",
            "5   2011      5  ...                 0.51                 0\n",
            "6   2013      1  ...                 0.52                 1\n",
            "7   2014      1  ...                 0.52                 1\n",
            "8   2011      2  ...                 0.52                 0\n",
            "9   2013      6  ...                 0.52                 1\n",
            "10  2014      2  ...                 0.52                 0\n",
            "11  2012      2  ...                 0.52                 1\n",
            "12  2014      1  ...                 0.52                 1\n",
            "13  2012      1  ...                 0.53                 0\n",
            "14  2012      4  ...                 0.53                 1\n",
            "\n",
            "[15 rows x 6 columns]\n"
          ],
          "name": "stdout"
        }
      ]
    },
    {
      "cell_type": "markdown",
      "metadata": {
        "id": "LRTub6r_-o4a",
        "colab_type": "text"
      },
      "source": [
        "**DIMENSION OF DATASET**"
      ]
    },
    {
      "cell_type": "code",
      "metadata": {
        "id": "Stg1Vkovu_je",
        "colab_type": "code",
        "colab": {
          "base_uri": "https://localhost:8080/",
          "height": 35
        },
        "outputId": "766b1979-5ea5-4967-ed3b-b20bcb8edb87"
      },
      "source": [
        "dimension=mydata.shape\n",
        "print(dimension)"
      ],
      "execution_count": null,
      "outputs": [
        {
          "output_type": "stream",
          "text": [
            "(253, 6)\n"
          ],
          "name": "stdout"
        }
      ]
    },
    {
      "cell_type": "markdown",
      "metadata": {
        "id": "XX6fm87BDcXh",
        "colab_type": "text"
      },
      "source": [
        "**DATA TYPE**"
      ]
    },
    {
      "cell_type": "code",
      "metadata": {
        "id": "piNFogUFvpXL",
        "colab_type": "code",
        "colab": {
          "base_uri": "https://localhost:8080/",
          "height": 144
        },
        "outputId": "9262a818-e18e-455c-b032-f7bad234e359"
      },
      "source": [
        "data_type=mydata.dtypes\n",
        "print(data_type)"
      ],
      "execution_count": null,
      "outputs": [
        {
          "output_type": "stream",
          "text": [
            "year                      int64\n",
            "round                     int64\n",
            "favorite                 object\n",
            "underdog                 object\n",
            "favorite_probability    float64\n",
            "favorite_win_flag         int64\n",
            "dtype: object\n"
          ],
          "name": "stdout"
        }
      ]
    },
    {
      "cell_type": "code",
      "metadata": {
        "id": "JwjpfIQDv35e",
        "colab_type": "code",
        "colab": {
          "base_uri": "https://localhost:8080/",
          "height": 181
        },
        "outputId": "0dc3560f-f5f3-453e-eaa6-138f6bcff475"
      },
      "source": [
        "#Description\n",
        "description=mydata.describe()\n",
        "print(description)"
      ],
      "execution_count": null,
      "outputs": [
        {
          "output_type": "stream",
          "text": [
            "          year   round  favorite_probability  favorite_win_flag\n",
            "count   253.00  253.00                253.00             253.00\n",
            "mean   2012.41    2.68                  0.72               0.70\n",
            "std       1.09    1.16                  0.14               0.46\n",
            "min    2011.00    1.00                  0.50               0.00\n",
            "25%    2011.00    2.00                  0.60               0.00\n",
            "50%    2012.00    2.00                  0.70               1.00\n",
            "75%    2013.00    3.00                  0.85               1.00\n",
            "max    2014.00    7.00                  1.00               1.00\n"
          ],
          "name": "stdout"
        }
      ]
    },
    {
      "cell_type": "markdown",
      "metadata": {
        "id": "aEi8lhaYKga9",
        "colab_type": "text"
      },
      "source": [
        "**Rounding-off results upto 2 digits after decimal**"
      ]
    },
    {
      "cell_type": "code",
      "metadata": {
        "id": "jIs9zShcwtKs",
        "colab_type": "code",
        "colab": {
          "base_uri": "https://localhost:8080/",
          "height": 181
        },
        "outputId": "1536fee4-edca-43b6-ea15-f6cc9450f349"
      },
      "source": [
        "pd.set_option('precision', 2)\n",
        "precision=mydata.describe()\n",
        "print(precision)"
      ],
      "execution_count": null,
      "outputs": [
        {
          "output_type": "stream",
          "text": [
            "          year   round  favorite_probability  favorite_win_flag\n",
            "count   253.00  253.00                253.00             253.00\n",
            "mean   2012.41    2.68                  0.72               0.70\n",
            "std       1.09    1.16                  0.14               0.46\n",
            "min    2011.00    1.00                  0.50               0.00\n",
            "25%    2011.00    2.00                  0.60               0.00\n",
            "50%    2012.00    2.00                  0.70               1.00\n",
            "75%    2013.00    3.00                  0.85               1.00\n",
            "max    2014.00    7.00                  1.00               1.00\n"
          ],
          "name": "stdout"
        }
      ]
    },
    {
      "cell_type": "code",
      "metadata": {
        "id": "qyrhzFjzxXqP",
        "colab_type": "code",
        "colab": {
          "base_uri": "https://localhost:8080/",
          "height": 253
        },
        "outputId": "48cbaaab-83a9-4094-b8cf-7dcaa831bf90"
      },
      "source": [
        "count=mydata.groupby('favorite').size()\n",
        "print (count)"
      ],
      "execution_count": null,
      "outputs": [
        {
          "output_type": "stream",
          "text": [
            "favorite\n",
            "Alabama             1\n",
            "Albany              1\n",
            "Arizona             6\n",
            "Baylor              4\n",
            "Brigham Young       2\n",
            "                   ..\n",
            "West Virginia       2\n",
            "Western Kentucky    1\n",
            "Wichita State       4\n",
            "Wisconsin           8\n",
            "Xavier              4\n",
            "Length: 72, dtype: int64\n"
          ],
          "name": "stdout"
        }
      ]
    },
    {
      "cell_type": "code",
      "metadata": {
        "id": "Lqfj2XodNN5E",
        "colab_type": "code",
        "colab": {
          "base_uri": "https://localhost:8080/",
          "height": 279
        },
        "outputId": "a586b939-b2fd-47e7-e892-029f764145fb"
      },
      "source": [
        "#Based on count, plot of \"favourite\" distribution\n",
        "import seaborn as sns\n",
        "sns.countplot(mydata['favorite'],label=\"count\")\n",
        "plt.show()"
      ],
      "execution_count": null,
      "outputs": [
        {
          "output_type": "display_data",
          "data": {
            "image/png": "[encoded data removed]",
            "text/plain": [
              "<Figure size 432x288 with 1 Axes>"
            ]
          },
          "metadata": {
            "tags": [],
            "needs_background": "light"
          }
        }
      ]
    },
    {
      "cell_type": "code",
      "metadata": {
        "id": "qKppEWUM4p-B",
        "colab_type": "code",
        "colab": {
          "base_uri": "https://localhost:8080/",
          "height": 108
        },
        "outputId": "59ca578c-38f7-4feb-a83e-f32c5c5c190c"
      },
      "source": [
        "#Checking coorelation\n",
        "Correlations=mydata.corr()\n",
        "print(Correlations)"
      ],
      "execution_count": null,
      "outputs": [
        {
          "output_type": "stream",
          "text": [
            "                      year  round  favorite_probability  favorite_win_flag\n",
            "year                  1.00  -0.15                  0.08               0.07\n",
            "round                -0.15   1.00                 -0.10              -0.06\n",
            "favorite_probability  0.08  -0.10                  1.00               0.27\n",
            "favorite_win_flag     0.07  -0.06                  0.27               1.00\n"
          ],
          "name": "stdout"
        }
      ]
    },
    {
      "cell_type": "code",
      "metadata": {
        "id": "4GWTb1IW42PM",
        "colab_type": "code",
        "colab": {
          "base_uri": "https://localhost:8080/",
          "height": 108
        },
        "outputId": "13d153ba-3daa-4222-fd76-785c42c4fbef"
      },
      "source": [
        "#Skewness\n",
        "Skewness=mydata.skew()\n",
        "print(Skewness)"
      ],
      "execution_count": null,
      "outputs": [
        {
          "output_type": "stream",
          "text": [
            "year                    0.09\n",
            "round                   1.42\n",
            "favorite_probability    0.30\n",
            "favorite_win_flag      -0.88\n",
            "dtype: float64\n"
          ],
          "name": "stdout"
        }
      ]
    },
    {
      "cell_type": "markdown",
      "metadata": {
        "id": "c2MVlCcVOxzR",
        "colab_type": "text"
      },
      "source": [
        "**HISTOGRAM PLOT**"
      ]
    },
    {
      "cell_type": "code",
      "metadata": {
        "id": "vJW1ThKE4-on",
        "colab_type": "code",
        "colab": {
          "base_uri": "https://localhost:8080/",
          "height": 281
        },
        "outputId": "a0681427-c21e-4657-d440-b9d1c7ae217c"
      },
      "source": [
        "histogram=mydata.hist()\n",
        "plt.show()"
      ],
      "execution_count": null,
      "outputs": [
        {
          "output_type": "display_data",
          "data": {
            "image/png": "[encoded data removed]",
            "text/plain": [
              "<Figure size 432x288 with 4 Axes>"
            ]
          },
          "metadata": {
            "tags": [],
            "needs_background": "light"
          }
        }
      ]
    },
    {
      "cell_type": "markdown",
      "metadata": {
        "id": "EhW0I_hePngh",
        "colab_type": "text"
      },
      "source": [
        "**Correlation Matrix**"
      ]
    },
    {
      "cell_type": "code",
      "metadata": {
        "id": "TO2hFNNP5PvN",
        "colab_type": "code",
        "colab": {
          "base_uri": "https://localhost:8080/",
          "height": 271
        },
        "outputId": "f11a9962-4bf7-4e38-8e4a-43b69227e330"
      },
      "source": [
        "correlations = mydata.corr()\n",
        "# plotting the correlation matrix\n",
        "fig = plt.figure()\n",
        "ax = fig.add_subplot(111)\n",
        "cax = ax.matshow(correlations, vmin=-1, vmax=1)\n",
        "fig.colorbar(cax)#\n",
        "#ax.set_xlabel(col_names)\n",
        "#ax.set_ylabel(col_names)\n",
        "plt.show()"
      ],
      "execution_count": null,
      "outputs": [
        {
          "output_type": "display_data",
          "data": {
            "image/png": "[encoded data removed]",
            "text/plain": [
              "<Figure size 432x288 with 2 Axes>"
            ]
          },
          "metadata": {
            "tags": [],
            "needs_background": "light"
          }
        }
      ]
    },
    {
      "cell_type": "markdown",
      "metadata": {
        "id": "tmvU3kHnP0T9",
        "colab_type": "text"
      },
      "source": [
        "**Scatter plot Matrix**"
      ]
    },
    {
      "cell_type": "code",
      "metadata": {
        "id": "0YSM7Xrd5iAM",
        "colab_type": "code",
        "colab": {
          "base_uri": "https://localhost:8080/",
          "height": 292
        },
        "outputId": "7c77025d-090b-4485-dbe3-d16fe50e2bb0"
      },
      "source": [
        "Matrix=scatter_matrix(mydata)"
      ],
      "execution_count": null,
      "outputs": [
        {
          "output_type": "display_data",
          "data": {
            "image/png": "[encoded data removed]",
            "text/plain": [
              "<Figure size 432x288 with 16 Axes>"
            ]
          },
          "metadata": {
            "tags": [],
            "needs_background": "light"
          }
        }
      ]
    },
    {
      "cell_type": "markdown",
      "metadata": {
        "id": "bWq5WybXyIPY",
        "colab_type": "text"
      },
      "source": [
        "**Data Defining**"
      ]
    },
    {
      "cell_type": "code",
      "metadata": {
        "id": "vmnoeS5cbo3v",
        "colab_type": "code",
        "colab": {}
      },
      "source": [
        "x=mydata[['year', 'round', \t'favorite', \t'underdog', \t'favorite_probability' ]]\n",
        "y=mydata[['favorite_win_flag']]"
      ],
      "execution_count": null,
      "outputs": []
    },
    {
      "cell_type": "code",
      "metadata": {
        "id": "VzLw9P4becsy",
        "colab_type": "code",
        "colab": {
          "base_uri": "https://localhost:8080/",
          "height": 280
        },
        "outputId": "b1c5f2be-3e52-4801-ba56-25b1d19139d6"
      },
      "source": [
        "#Plotting output based on count\n",
        "sns.countplot(dataset['favorite_win_flag'],label=\"count\")\n",
        "plt.show()"
      ],
      "execution_count": null,
      "outputs": [
        {
          "output_type": "display_data",
          "data": {
            "image/png": "[encoded data removed]",
            "text/plain": [
              "<Figure size 432x288 with 1 Axes>"
            ]
          },
          "metadata": {
            "tags": [],
            "needs_background": "light"
          }
        }
      ]
    },
    {
      "cell_type": "markdown",
      "metadata": {
        "id": "o7OSxeyIroQx",
        "colab_type": "text"
      },
      "source": [
        "**Dropping Values**"
      ]
    },
    {
      "cell_type": "code",
      "metadata": {
        "id": "ifLf2bw8ezRw",
        "colab_type": "code",
        "colab": {
          "base_uri": "https://localhost:8080/",
          "height": 128
        },
        "outputId": "6d67b5cd-1a4f-462e-e029-3be0d084ff80"
      },
      "source": [
        "x.drop(['year', \t'favorite', \t'underdog' ],axis=1,inplace=True)"
      ],
      "execution_count": null,
      "outputs": [
        {
          "output_type": "stream",
          "text": [
            "/usr/local/lib/python3.6/dist-packages/pandas/core/frame.py:3997: SettingWithCopyWarning: \n",
            "A value is trying to be set on a copy of a slice from a DataFrame\n",
            "\n",
            "See the caveats in the documentation: https://pandas.pydata.org/pandas-docs/stable/user_guide/indexing.html#returning-a-view-versus-a-copy\n",
            "  errors=errors,\n"
          ],
          "name": "stderr"
        }
      ]
    },
    {
      "cell_type": "markdown",
      "metadata": {
        "id": "X9EFMC40ryL-",
        "colab_type": "text"
      },
      "source": [
        "**Printing X**"
      ]
    },
    {
      "cell_type": "code",
      "metadata": {
        "id": "7SQrb5gRr3ra",
        "colab_type": "code",
        "colab": {
          "base_uri": "https://localhost:8080/",
          "height": 271
        },
        "outputId": "a2e30501-c4cb-4374-d6a2-cf6bd6123385"
      },
      "source": [
        "print(x)"
      ],
      "execution_count": null,
      "outputs": [
        {
          "output_type": "stream",
          "text": [
            "     round  favorite_probability\n",
            "0        2                  0.50\n",
            "1        2                  0.50\n",
            "2        1                  0.51\n",
            "3        2                  0.51\n",
            "4        3                  0.51\n",
            "..     ...                   ...\n",
            "248      2                  0.99\n",
            "249      2                  0.99\n",
            "250      2                  0.99\n",
            "251      2                  0.99\n",
            "252      2                  1.00\n",
            "\n",
            "[253 rows x 2 columns]\n"
          ],
          "name": "stdout"
        }
      ]
    },
    {
      "cell_type": "markdown",
      "metadata": {
        "id": "Sqsp5N8sp9F2",
        "colab_type": "text"
      },
      "source": [
        "**Splitting data into 70:30 ratio**"
      ]
    },
    {
      "cell_type": "code",
      "metadata": {
        "id": "JMkXc1kJiwaF",
        "colab_type": "code",
        "colab": {}
      },
      "source": [
        "train_data, test_data, train_label, test_label = train_test_split(x, y, test_size=0.3, random_state=15)"
      ],
      "execution_count": null,
      "outputs": []
    },
    {
      "cell_type": "markdown",
      "metadata": {
        "id": "bi-_xkt-q7qD",
        "colab_type": "text"
      },
      "source": [
        "**DecisionTree**"
      ]
    },
    {
      "cell_type": "code",
      "metadata": {
        "id": "IxzaGgA8jI7M",
        "colab_type": "code",
        "colab": {}
      },
      "source": [
        "Dtree = DecisionTreeClassifier()"
      ],
      "execution_count": null,
      "outputs": []
    },
    {
      "cell_type": "markdown",
      "metadata": {
        "id": "Zrvvj1fTrBIn",
        "colab_type": "text"
      },
      "source": [
        "**Fitting of model**"
      ]
    },
    {
      "cell_type": "code",
      "metadata": {
        "id": "8-f_Gu-aqP-h",
        "colab_type": "code",
        "colab": {}
      },
      "source": [
        "Dtree = Dtree.fit(train_data, train_label)"
      ],
      "execution_count": null,
      "outputs": []
    },
    {
      "cell_type": "markdown",
      "metadata": {
        "id": "ToLoOvderK8H",
        "colab_type": "text"
      },
      "source": [
        "**Prediction**"
      ]
    },
    {
      "cell_type": "code",
      "metadata": {
        "id": "0KXfwYRMqSeo",
        "colab_type": "code",
        "colab": {}
      },
      "source": [
        "Dtree_label_predict = Dtree.predict(test_data)"
      ],
      "execution_count": null,
      "outputs": []
    },
    {
      "cell_type": "markdown",
      "metadata": {
        "id": "1vdEqXn_rQNf",
        "colab_type": "text"
      },
      "source": [
        "**Accuracy**"
      ]
    },
    {
      "cell_type": "code",
      "metadata": {
        "id": "qVImBAe6qVk3",
        "colab_type": "code",
        "colab": {}
      },
      "source": [
        "\n",
        "Dtree_Accuracy = metrics.accuracy_score(test_label, Dtree_label_predict)\n"
      ],
      "execution_count": null,
      "outputs": []
    },
    {
      "cell_type": "code",
      "metadata": {
        "id": "saKljJ73qYba",
        "colab_type": "code",
        "colab": {
          "base_uri": "https://localhost:8080/",
          "height": 35
        },
        "outputId": "e7bf88e2-b128-4b14-cd0a-797e48f10e72"
      },
      "source": [
        "print ('Accuracy for Decision Tree =', Dtree_accuracy * 100)"
      ],
      "execution_count": null,
      "outputs": [
        {
          "output_type": "stream",
          "text": [
            "Accuracy for Decision Tree = 60.526315789473685\n"
          ],
          "name": "stdout"
        }
      ]
    },
    {
      "cell_type": "code",
      "metadata": {
        "id": "B-7OIOY1wZLn",
        "colab_type": "code",
        "colab": {
          "base_uri": "https://localhost:8080/",
          "height": 72
        },
        "outputId": "0cfbc21d-14e4-464e-cce9-17e7842e46aa"
      },
      "source": [
        "test_data.mean()"
      ],
      "execution_count": null,
      "outputs": [
        {
          "output_type": "execute_result",
          "data": {
            "text/plain": [
              "round                   2.67\n",
              "favorite_probability    0.75\n",
              "dtype: float64"
            ]
          },
          "metadata": {
            "tags": []
          },
          "execution_count": 338
        }
      ]
    },
    {
      "cell_type": "code",
      "metadata": {
        "id": "zm5VZyM-wfav",
        "colab_type": "code",
        "colab": {
          "base_uri": "https://localhost:8080/",
          "height": 53
        },
        "outputId": "d8648d36-b44b-4553-f838-0e10c4bd64fb"
      },
      "source": [
        "test_label.mean()"
      ],
      "execution_count": null,
      "outputs": [
        {
          "output_type": "execute_result",
          "data": {
            "text/plain": [
              "favorite_win_flag    0.74\n",
              "dtype: float64"
            ]
          },
          "metadata": {
            "tags": []
          },
          "execution_count": 339
        }
      ]
    },
    {
      "cell_type": "markdown",
      "metadata": {
        "id": "KGzS9cywxF7h",
        "colab_type": "text"
      },
      "source": [
        "**KNN**"
      ]
    },
    {
      "cell_type": "code",
      "metadata": {
        "id": "WOnIHP6SwuFn",
        "colab_type": "code",
        "colab": {}
      },
      "source": [
        "KNNClass = KNeighborsClassifier()"
      ],
      "execution_count": null,
      "outputs": []
    },
    {
      "cell_type": "markdown",
      "metadata": {
        "id": "768T0bfDxPl7",
        "colab_type": "text"
      },
      "source": [
        "**Model** **Fitting**"
      ]
    },
    {
      "cell_type": "code",
      "metadata": {
        "id": "M3KIXbDrxQEL",
        "colab_type": "code",
        "colab": {
          "base_uri": "https://localhost:8080/",
          "height": 73
        },
        "outputId": "766f2f17-4a32-4fb2-df65-1c3095ae6095"
      },
      "source": [
        "KNNClass = KNNClass.fit(train_data, train_label)"
      ],
      "execution_count": null,
      "outputs": [
        {
          "output_type": "stream",
          "text": [
            "/usr/local/lib/python3.6/dist-packages/ipykernel_launcher.py:1: DataConversionWarning: A column-vector y was passed when a 1d array was expected. Please change the shape of y to (n_samples, ), for example using ravel().\n",
            "  \"\"\"Entry point for launching an IPython kernel.\n"
          ],
          "name": "stderr"
        }
      ]
    },
    {
      "cell_type": "markdown",
      "metadata": {
        "id": "-Fep-MUHxTrj",
        "colab_type": "text"
      },
      "source": [
        "**Prediction**"
      ]
    },
    {
      "cell_type": "code",
      "metadata": {
        "id": "RHqT2Z_mxUb8",
        "colab_type": "code",
        "colab": {}
      },
      "source": [
        "KNN_label_predict = KNNClass.predict(test_data)"
      ],
      "execution_count": null,
      "outputs": []
    },
    {
      "cell_type": "markdown",
      "metadata": {
        "id": "oQDBLHdmxWml",
        "colab_type": "text"
      },
      "source": [
        "**Accuracy**"
      ]
    },
    {
      "cell_type": "code",
      "metadata": {
        "id": "scGfjb4AxW5l",
        "colab_type": "code",
        "colab": {
          "base_uri": "https://localhost:8080/",
          "height": 35
        },
        "outputId": "39f6e1e0-0897-4baf-94c8-fbfa68e0a177"
      },
      "source": [
        "KNNClass_Accuracy = metrics.accuracy_score(test_label, KNN_label_predict)\n",
        "print ('Accuracy for KNN =', KNNClass_Accuracy * 100)"
      ],
      "execution_count": null,
      "outputs": [
        {
          "output_type": "stream",
          "text": [
            "Accuracy for KNN = 67.10526315789474\n"
          ],
          "name": "stdout"
        }
      ]
    },
    {
      "cell_type": "markdown",
      "metadata": {
        "id": "euX0m1bIzdVA",
        "colab_type": "text"
      },
      "source": [
        "**Naive Bayes Classifier**"
      ]
    },
    {
      "cell_type": "code",
      "metadata": {
        "id": "aGI5m2Mjy2vD",
        "colab_type": "code",
        "colab": {}
      },
      "source": [
        "NB = GaussianNB()"
      ],
      "execution_count": null,
      "outputs": []
    },
    {
      "cell_type": "markdown",
      "metadata": {
        "id": "AAygIWuV1mVO",
        "colab_type": "text"
      },
      "source": [
        "**Model Fitting**"
      ]
    },
    {
      "cell_type": "code",
      "metadata": {
        "id": "YwJcx6TX1mxi",
        "colab_type": "code",
        "colab": {
          "base_uri": "https://localhost:8080/",
          "height": 73
        },
        "outputId": "c2415cf4-1e1d-4fdb-dbdb-acbad1c02684"
      },
      "source": [
        "NB = NB.fit(train_data,train_label)"
      ],
      "execution_count": null,
      "outputs": [
        {
          "output_type": "stream",
          "text": [
            "/usr/local/lib/python3.6/dist-packages/sklearn/naive_bayes.py:206: DataConversionWarning: A column-vector y was passed when a 1d array was expected. Please change the shape of y to (n_samples, ), for example using ravel().\n",
            "  y = column_or_1d(y, warn=True)\n"
          ],
          "name": "stderr"
        }
      ]
    },
    {
      "cell_type": "markdown",
      "metadata": {
        "id": "4m28hWeT1nDw",
        "colab_type": "text"
      },
      "source": [
        "**Prediction**"
      ]
    },
    {
      "cell_type": "code",
      "metadata": {
        "id": "gOZJeZQU1nXi",
        "colab_type": "code",
        "colab": {}
      },
      "source": [
        "NB_label_predict = NB.predict(test_data)"
      ],
      "execution_count": null,
      "outputs": []
    },
    {
      "cell_type": "markdown",
      "metadata": {
        "id": "-DPyGQq31YET",
        "colab_type": "text"
      },
      "source": [
        "**Accuracy**"
      ]
    },
    {
      "cell_type": "code",
      "metadata": {
        "id": "dvBJFSan1Yt_",
        "colab_type": "code",
        "colab": {
          "base_uri": "https://localhost:8080/",
          "height": 35
        },
        "outputId": "17f183de-b1d8-4454-c09f-919740111d15"
      },
      "source": [
        "NB_Accuracy = metrics.accuracy_score(test_label, NB_label_predict)\n",
        "print ('Accuracy for Naive Bayes Classifier =', NB_Accuracy * 100)"
      ],
      "execution_count": null,
      "outputs": [
        {
          "output_type": "stream",
          "text": [
            "Accuracy for Naive Bayes Classifier = 75.0\n"
          ],
          "name": "stdout"
        }
      ]
    }
  ]
}